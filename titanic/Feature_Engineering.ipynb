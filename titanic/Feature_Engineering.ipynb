{
 "cells": [
  {
   "cell_type": "markdown",
   "metadata": {},
   "source": [
    "# Feature Engineering for Titanic Dataset\n",
    "In this notebook, we perform various feature engineering techniques to preprocess the Titanic dataset. The goal is to create meaningful features, handle missing values, and encode categorical variables in preparation for the modeling phase. We also scale numerical features to ensure that the dataset is ready for machine learning algorithms."
   ]
  },
  {
   "cell_type": "code",
   "execution_count": 129,
   "metadata": {},
   "outputs": [],
   "source": [
    "import pandas as pd\n",
    "import matplotlib.pyplot as plt\n",
    "import seaborn as sns\n",
    "import numpy as np\n",
    "\n",
    "from sklearn.preprocessing import StandardScaler"
   ]
  },
  {
   "cell_type": "code",
   "execution_count": 130,
   "metadata": {},
   "outputs": [],
   "source": [
    "train_data = pd.read_csv('train.csv')\n",
    "test_data = pd.read_csv('test.csv')\n",
    "submission_data = pd.read_csv('gender_submission.csv')"
   ]
  },
  {
   "cell_type": "markdown",
   "metadata": {},
   "source": [
    "### Data Preparation for Feature Engineering\n",
    "- Split the training data into features (`x_train`) and target (`y_train`), and similarly for the test data.\n",
    "- Combined the training and test datasets for unified feature engineering.\n",
    "- Dropped the `PassengerId` column from the dataset as it is not useful for model training.\n"
   ]
  },
  {
   "cell_type": "code",
   "execution_count": 131,
   "metadata": {},
   "outputs": [],
   "source": [
    "y_train = train_data['Survived']\n",
    "x_train = train_data.drop(columns='Survived')\n",
    "\n",
    "y_test = submission_data['Survived']\n",
    "x_test = test_data\n",
    "\n",
    "\n",
    "x_data = pd.concat([x_train, x_test], axis=0, ignore_index=True)\n",
    "y_data = pd.concat([y_train, y_test], axis=0, ignore_index=True)\n",
    "\n",
    "train_test_data = pd.concat([x_data, y_data], axis=1)"
   ]
  },
  {
   "cell_type": "code",
   "execution_count": 132,
   "metadata": {},
   "outputs": [],
   "source": [
    "train_test_data.drop(columns='PassengerId', inplace=True)"
   ]
  },
  {
   "cell_type": "code",
   "execution_count": 133,
   "metadata": {},
   "outputs": [
    {
     "data": {
      "text/html": [
       "<div>\n",
       "<style scoped>\n",
       "    .dataframe tbody tr th:only-of-type {\n",
       "        vertical-align: middle;\n",
       "    }\n",
       "\n",
       "    .dataframe tbody tr th {\n",
       "        vertical-align: top;\n",
       "    }\n",
       "\n",
       "    .dataframe thead th {\n",
       "        text-align: right;\n",
       "    }\n",
       "</style>\n",
       "<table border=\"1\" class=\"dataframe\">\n",
       "  <thead>\n",
       "    <tr style=\"text-align: right;\">\n",
       "      <th></th>\n",
       "      <th>Pclass</th>\n",
       "      <th>Name</th>\n",
       "      <th>Sex</th>\n",
       "      <th>Age</th>\n",
       "      <th>SibSp</th>\n",
       "      <th>Parch</th>\n",
       "      <th>Ticket</th>\n",
       "      <th>Fare</th>\n",
       "      <th>Cabin</th>\n",
       "      <th>Embarked</th>\n",
       "      <th>Survived</th>\n",
       "    </tr>\n",
       "  </thead>\n",
       "  <tbody>\n",
       "    <tr>\n",
       "      <th>0</th>\n",
       "      <td>3</td>\n",
       "      <td>Braund, Mr. Owen Harris</td>\n",
       "      <td>male</td>\n",
       "      <td>22.0</td>\n",
       "      <td>1</td>\n",
       "      <td>0</td>\n",
       "      <td>A/5 21171</td>\n",
       "      <td>7.2500</td>\n",
       "      <td>NaN</td>\n",
       "      <td>S</td>\n",
       "      <td>0</td>\n",
       "    </tr>\n",
       "    <tr>\n",
       "      <th>1</th>\n",
       "      <td>1</td>\n",
       "      <td>Cumings, Mrs. John Bradley (Florence Briggs Th...</td>\n",
       "      <td>female</td>\n",
       "      <td>38.0</td>\n",
       "      <td>1</td>\n",
       "      <td>0</td>\n",
       "      <td>PC 17599</td>\n",
       "      <td>71.2833</td>\n",
       "      <td>C85</td>\n",
       "      <td>C</td>\n",
       "      <td>1</td>\n",
       "    </tr>\n",
       "    <tr>\n",
       "      <th>2</th>\n",
       "      <td>3</td>\n",
       "      <td>Heikkinen, Miss. Laina</td>\n",
       "      <td>female</td>\n",
       "      <td>26.0</td>\n",
       "      <td>0</td>\n",
       "      <td>0</td>\n",
       "      <td>STON/O2. 3101282</td>\n",
       "      <td>7.9250</td>\n",
       "      <td>NaN</td>\n",
       "      <td>S</td>\n",
       "      <td>1</td>\n",
       "    </tr>\n",
       "  </tbody>\n",
       "</table>\n",
       "</div>"
      ],
      "text/plain": [
       "   Pclass                                               Name     Sex   Age  \\\n",
       "0       3                            Braund, Mr. Owen Harris    male  22.0   \n",
       "1       1  Cumings, Mrs. John Bradley (Florence Briggs Th...  female  38.0   \n",
       "2       3                             Heikkinen, Miss. Laina  female  26.0   \n",
       "\n",
       "   SibSp  Parch            Ticket     Fare Cabin Embarked  Survived  \n",
       "0      1      0         A/5 21171   7.2500   NaN        S         0  \n",
       "1      1      0          PC 17599  71.2833   C85        C         1  \n",
       "2      0      0  STON/O2. 3101282   7.9250   NaN        S         1  "
      ]
     },
     "execution_count": 133,
     "metadata": {},
     "output_type": "execute_result"
    }
   ],
   "source": [
    "train_test_data.head(3)"
   ]
  },
  {
   "cell_type": "code",
   "execution_count": 134,
   "metadata": {},
   "outputs": [
    {
     "data": {
      "text/html": [
       "<div>\n",
       "<style scoped>\n",
       "    .dataframe tbody tr th:only-of-type {\n",
       "        vertical-align: middle;\n",
       "    }\n",
       "\n",
       "    .dataframe tbody tr th {\n",
       "        vertical-align: top;\n",
       "    }\n",
       "\n",
       "    .dataframe thead th {\n",
       "        text-align: right;\n",
       "    }\n",
       "</style>\n",
       "<table border=\"1\" class=\"dataframe\">\n",
       "  <thead>\n",
       "    <tr style=\"text-align: right;\">\n",
       "      <th></th>\n",
       "      <th>Pclass</th>\n",
       "      <th>Age</th>\n",
       "      <th>SibSp</th>\n",
       "      <th>Parch</th>\n",
       "      <th>Fare</th>\n",
       "      <th>Survived</th>\n",
       "    </tr>\n",
       "  </thead>\n",
       "  <tbody>\n",
       "    <tr>\n",
       "      <th>count</th>\n",
       "      <td>1309.000000</td>\n",
       "      <td>1046.000000</td>\n",
       "      <td>1309.000000</td>\n",
       "      <td>1309.000000</td>\n",
       "      <td>1308.000000</td>\n",
       "      <td>1309.000000</td>\n",
       "    </tr>\n",
       "    <tr>\n",
       "      <th>mean</th>\n",
       "      <td>2.294882</td>\n",
       "      <td>29.881138</td>\n",
       "      <td>0.498854</td>\n",
       "      <td>0.385027</td>\n",
       "      <td>33.295479</td>\n",
       "      <td>0.377387</td>\n",
       "    </tr>\n",
       "    <tr>\n",
       "      <th>std</th>\n",
       "      <td>0.837836</td>\n",
       "      <td>14.413493</td>\n",
       "      <td>1.041658</td>\n",
       "      <td>0.865560</td>\n",
       "      <td>51.758668</td>\n",
       "      <td>0.484918</td>\n",
       "    </tr>\n",
       "    <tr>\n",
       "      <th>min</th>\n",
       "      <td>1.000000</td>\n",
       "      <td>0.170000</td>\n",
       "      <td>0.000000</td>\n",
       "      <td>0.000000</td>\n",
       "      <td>0.000000</td>\n",
       "      <td>0.000000</td>\n",
       "    </tr>\n",
       "    <tr>\n",
       "      <th>25%</th>\n",
       "      <td>2.000000</td>\n",
       "      <td>21.000000</td>\n",
       "      <td>0.000000</td>\n",
       "      <td>0.000000</td>\n",
       "      <td>7.895800</td>\n",
       "      <td>0.000000</td>\n",
       "    </tr>\n",
       "    <tr>\n",
       "      <th>50%</th>\n",
       "      <td>3.000000</td>\n",
       "      <td>28.000000</td>\n",
       "      <td>0.000000</td>\n",
       "      <td>0.000000</td>\n",
       "      <td>14.454200</td>\n",
       "      <td>0.000000</td>\n",
       "    </tr>\n",
       "    <tr>\n",
       "      <th>75%</th>\n",
       "      <td>3.000000</td>\n",
       "      <td>39.000000</td>\n",
       "      <td>1.000000</td>\n",
       "      <td>0.000000</td>\n",
       "      <td>31.275000</td>\n",
       "      <td>1.000000</td>\n",
       "    </tr>\n",
       "    <tr>\n",
       "      <th>max</th>\n",
       "      <td>3.000000</td>\n",
       "      <td>80.000000</td>\n",
       "      <td>8.000000</td>\n",
       "      <td>9.000000</td>\n",
       "      <td>512.329200</td>\n",
       "      <td>1.000000</td>\n",
       "    </tr>\n",
       "  </tbody>\n",
       "</table>\n",
       "</div>"
      ],
      "text/plain": [
       "            Pclass          Age        SibSp        Parch         Fare  \\\n",
       "count  1309.000000  1046.000000  1309.000000  1309.000000  1308.000000   \n",
       "mean      2.294882    29.881138     0.498854     0.385027    33.295479   \n",
       "std       0.837836    14.413493     1.041658     0.865560    51.758668   \n",
       "min       1.000000     0.170000     0.000000     0.000000     0.000000   \n",
       "25%       2.000000    21.000000     0.000000     0.000000     7.895800   \n",
       "50%       3.000000    28.000000     0.000000     0.000000    14.454200   \n",
       "75%       3.000000    39.000000     1.000000     0.000000    31.275000   \n",
       "max       3.000000    80.000000     8.000000     9.000000   512.329200   \n",
       "\n",
       "          Survived  \n",
       "count  1309.000000  \n",
       "mean      0.377387  \n",
       "std       0.484918  \n",
       "min       0.000000  \n",
       "25%       0.000000  \n",
       "50%       0.000000  \n",
       "75%       1.000000  \n",
       "max       1.000000  "
      ]
     },
     "execution_count": 134,
     "metadata": {},
     "output_type": "execute_result"
    }
   ],
   "source": [
    "train_test_data.describe()"
   ]
  },
  {
   "cell_type": "markdown",
   "metadata": {},
   "source": [
    "## Handling Missing Values \n",
    "- Filled missing `Fare` values with the median and `Embarked` values with the mode.\n",
    "- Created a new feature `AgeGroup` by categorizing `Age` into bins (Infant, Child, Adult, Middle, Senior).\n",
    "- For missing values in `AgeGroup`, filled them based on the mode within `Pclass` and `Sex` groups.\n",
    "- Created a binary feature `HasCabin` indicating the presence of cabin information.\n",
    "- Dropped the original `Age` and `Cabin` columns after creating the new features.\n"
   ]
  },
  {
   "cell_type": "code",
   "execution_count": 135,
   "metadata": {},
   "outputs": [
    {
     "data": {
      "text/plain": [
       "Pclass         0\n",
       "Name           0\n",
       "Sex            0\n",
       "Age          263\n",
       "SibSp          0\n",
       "Parch          0\n",
       "Ticket         0\n",
       "Fare           1\n",
       "Cabin       1014\n",
       "Embarked       2\n",
       "Survived       0\n",
       "dtype: int64"
      ]
     },
     "execution_count": 135,
     "metadata": {},
     "output_type": "execute_result"
    }
   ],
   "source": [
    "train_test_data.isnull().sum()"
   ]
  },
  {
   "cell_type": "markdown",
   "metadata": {},
   "source": [
    "### 1. Fare & Embarked"
   ]
  },
  {
   "cell_type": "code",
   "execution_count": 136,
   "metadata": {},
   "outputs": [],
   "source": [
    "train_test_data['Fare'].fillna(train_test_data['Fare'].median(), inplace=True)\n",
    "train_test_data['Embarked'].fillna(train_test_data['Embarked'].mode()[0], inplace=True)"
   ]
  },
  {
   "cell_type": "markdown",
   "metadata": {},
   "source": [
    "### 2. Age"
   ]
  },
  {
   "cell_type": "code",
   "execution_count": 137,
   "metadata": {},
   "outputs": [],
   "source": [
    "bins = [0, 5, 16, 30, 65, np.inf]\n",
    "labels = ['Infant', 'Child', 'Adult', 'Middle', 'Senior']\n",
    "\n",
    "train_test_data['AgeGroup'] = pd.cut(train_test_data['Age'], bins=bins, labels=labels)\n"
   ]
  },
  {
   "cell_type": "code",
   "execution_count": 138,
   "metadata": {},
   "outputs": [],
   "source": [
    "train_test_data['AgeGroup'] = train_test_data.groupby(['Pclass', 'Sex'])['AgeGroup'].transform(lambda x: x.fillna(x.mode()[0]))"
   ]
  },
  {
   "cell_type": "markdown",
   "metadata": {},
   "source": [
    "### 3. Cabin"
   ]
  },
  {
   "cell_type": "code",
   "execution_count": 139,
   "metadata": {},
   "outputs": [],
   "source": [
    "train_test_data['HasCabin'] = train_test_data['Cabin'].notna().astype(int)"
   ]
  },
  {
   "cell_type": "code",
   "execution_count": 140,
   "metadata": {},
   "outputs": [],
   "source": [
    "train_test_data.drop(columns=['Age', 'Cabin'], inplace=True)"
   ]
  },
  {
   "cell_type": "markdown",
   "metadata": {},
   "source": [
    "## Feature Combining and Transformation\n",
    "- Extracted the `Title` from the `Name` column and mapped it to more general categories (e.g., `Mr`, `Miss`, `Mrs`, `Others`).\n",
    "- Updated titles labeled as `Others` based on gender (`Sex`).\n",
    "- Created a new feature `FamilySize` by combining `SibSp` and `Parch`, then categorized family size into `Solo`, `Small`, and `Large` groups.\n",
    "- Categorized the `Fare` feature into `Very_Low`, `Low`, `Medium`, `High`, and `Very_High` groups.\n",
    "- Developed a `ClassCategory` feature by combining `Pclass` and `Sex` to define passenger class in terms of gender.\n",
    "- Mapped `Pclass` values to `1st`, `2nd`, and `3rd` class labels.\n",
    "- Dropped irrelevant features such as `Name`, `SibSp`, `Parch`, `FamilySize`, `Ticket`, and `Fare` after transformation.\n"
   ]
  },
  {
   "cell_type": "markdown",
   "metadata": {},
   "source": [
    "### 1. Name"
   ]
  },
  {
   "cell_type": "code",
   "execution_count": 141,
   "metadata": {},
   "outputs": [],
   "source": [
    "train_test_data['Title'] = train_test_data['Name'].str.extract(r' ([A-Za-z]+)\\.', expand=False)"
   ]
  },
  {
   "cell_type": "code",
   "execution_count": 142,
   "metadata": {},
   "outputs": [
    {
     "data": {
      "text/plain": [
       "Title\n",
       "Mr          757\n",
       "Miss        260\n",
       "Mrs         197\n",
       "Master       61\n",
       "Rev           8\n",
       "Dr            8\n",
       "Col           4\n",
       "Mlle          2\n",
       "Major         2\n",
       "Ms            2\n",
       "Lady          1\n",
       "Sir           1\n",
       "Mme           1\n",
       "Don           1\n",
       "Capt          1\n",
       "Countess      1\n",
       "Jonkheer      1\n",
       "Dona          1\n",
       "Name: count, dtype: int64"
      ]
     },
     "execution_count": 142,
     "metadata": {},
     "output_type": "execute_result"
    }
   ],
   "source": [
    "train_test_data['Title'].value_counts()"
   ]
  },
  {
   "cell_type": "code",
   "execution_count": 143,
   "metadata": {},
   "outputs": [],
   "source": [
    "title_mapping = {\n",
    "    'Mr': 'Mr',\n",
    "    'Miss': 'Miss',\n",
    "    'Mrs': 'Mrs',\n",
    "    'Master': 'Master',\n",
    "    'Rev': 'Others',\n",
    "    'Dr': 'Others',\n",
    "    'Col': 'Others',\n",
    "    'Mlle': 'Others',\n",
    "    'Major': 'Others',\n",
    "    'Ms': 'Others',\n",
    "    'Lady': 'Others',\n",
    "    'Sir': 'Others',\n",
    "    'Mme': 'Others',\n",
    "    'Don': 'Others',\n",
    "    'Capt': 'Others',\n",
    "    'Countess': 'Others',\n",
    "    'Jonkheer': 'Others',\n",
    "    'Dona': 'Others'\n",
    "}\n",
    "\n",
    "# Map titles to the 'Title' column\n",
    "train_test_data['Title'] = train_test_data['Title'].map(title_mapping)\n",
    "\n",
    "# Update 'Others' titles based on 'Sex'\n",
    "train_test_data['Title'] = train_test_data.apply(\n",
    "    lambda row: f\"Others_{row['Sex']}\" if row['Title'] == 'Others' else row['Title'],\n",
    "    axis=1\n",
    ")\n"
   ]
  },
  {
   "cell_type": "markdown",
   "metadata": {},
   "source": [
    "### 2. Family"
   ]
  },
  {
   "cell_type": "code",
   "execution_count": 144,
   "metadata": {},
   "outputs": [],
   "source": [
    "train_test_data['FamilySize'] = train_test_data['SibSp'] + train_test_data['Parch'] + 1"
   ]
  },
  {
   "cell_type": "code",
   "execution_count": 145,
   "metadata": {},
   "outputs": [],
   "source": [
    "bins = [0, 2, 5, np.inf]\n",
    "labels = ['Solo', 'Small', 'Large']\n",
    "\n",
    "train_test_data['FamilySizeCategory'] = pd.cut(train_test_data['FamilySize'], bins=bins, labels=labels, right=False)"
   ]
  },
  {
   "cell_type": "markdown",
   "metadata": {},
   "source": [
    "### 3. Fare"
   ]
  },
  {
   "cell_type": "code",
   "execution_count": 146,
   "metadata": {},
   "outputs": [],
   "source": [
    "bins = [0, 12, 35, 55, 100, np.inf]\n",
    "labels = ['Very_Low', 'Low', 'Medium', 'High', 'Very_High']\n",
    "\n",
    "# Create a new column 'FareCategory' by binning the 'Fare' column\n",
    "train_test_data['FareCategory'] = pd.cut(train_test_data['Fare'], bins=bins, labels=labels, right=False)"
   ]
  },
  {
   "cell_type": "markdown",
   "metadata": {},
   "source": [
    "### 4. Class - Gender Combination"
   ]
  },
  {
   "cell_type": "code",
   "execution_count": 147,
   "metadata": {},
   "outputs": [],
   "source": [
    "def categorize_class(row):\n",
    "    if row['Pclass'] in [1, 2] and row['Sex'] == 'female':\n",
    "        return 'HighClassFemale'\n",
    "    elif row['Pclass'] == 3 and row['Sex'] == 'female':\n",
    "        return 'LowClassFemale'\n",
    "    elif row['Pclass'] == 1 and row['Sex'] == 'male':\n",
    "        return 'HighClassMale'\n",
    "    elif row['Pclass'] in [2, 3] and row['Sex'] == 'male':\n",
    "        return 'LowClassMale'\n",
    "    else:\n",
    "        return 'Other'\n",
    "\n",
    "train_test_data['ClassCategory'] = train_test_data.apply(categorize_class, axis=1)"
   ]
  },
  {
   "cell_type": "markdown",
   "metadata": {},
   "source": [
    "### 5. Pclass"
   ]
  },
  {
   "cell_type": "code",
   "execution_count": 148,
   "metadata": {},
   "outputs": [],
   "source": [
    "train_test_data['Pclass'] = train_test_data['Pclass'].map({1: '1st', 2: '2nd', 3: '3rd'})"
   ]
  },
  {
   "cell_type": "code",
   "execution_count": 149,
   "metadata": {},
   "outputs": [],
   "source": [
    "train_test_data.drop(columns=['Name','SibSp', 'Parch', 'FamilySize','Ticket', 'Fare'], inplace=True)"
   ]
  },
  {
   "cell_type": "markdown",
   "metadata": {},
   "source": [
    "## Encoding Categorical Features Based on Survival Rates\n",
    "- Converted categorical columns to `object` type for consistency.\n",
    "- Calculated survival rates for each category within the categorical features.\n",
    "- Mapped categories to numeric values based on their survival rates, assigning higher survival rates to lower values (0, 1, 2, ...).\n",
    "- Transformed the entire dataset to `float` type after encoding.\n"
   ]
  },
  {
   "cell_type": "code",
   "execution_count": 150,
   "metadata": {},
   "outputs": [
    {
     "name": "stdout",
     "output_type": "stream",
     "text": [
      "<class 'pandas.core.frame.DataFrame'>\n",
      "RangeIndex: 1309 entries, 0 to 1308\n",
      "Data columns (total 10 columns):\n",
      " #   Column              Non-Null Count  Dtype   \n",
      "---  ------              --------------  -----   \n",
      " 0   Pclass              1309 non-null   object  \n",
      " 1   Sex                 1309 non-null   object  \n",
      " 2   Embarked            1309 non-null   object  \n",
      " 3   Survived            1309 non-null   int64   \n",
      " 4   AgeGroup            1309 non-null   category\n",
      " 5   HasCabin            1309 non-null   int32   \n",
      " 6   Title               1309 non-null   object  \n",
      " 7   FamilySizeCategory  1309 non-null   category\n",
      " 8   FareCategory        1309 non-null   category\n",
      " 9   ClassCategory       1309 non-null   object  \n",
      "dtypes: category(3), int32(1), int64(1), object(5)\n",
      "memory usage: 71.0+ KB\n"
     ]
    }
   ],
   "source": [
    "train_test_data.info()"
   ]
  },
  {
   "cell_type": "code",
   "execution_count": 151,
   "metadata": {},
   "outputs": [],
   "source": [
    "\n",
    "categorical_columns = train_test_data.select_dtypes(include='category').columns\n",
    "train_test_data[categorical_columns] = train_test_data[categorical_columns].astype('object')"
   ]
  },
  {
   "cell_type": "code",
   "execution_count": 152,
   "metadata": {},
   "outputs": [],
   "source": [
    "# Example: Assuming 'train_test_data' is your DataFrame and 'Survived' is the target column\n",
    "for column in train_test_data.select_dtypes(include='object').columns:\n",
    "    # Calculate survival rates for each category in the column\n",
    "    survival_rates = train_test_data.groupby(column)['Survived'].mean()\n",
    "\n",
    "    # Sort the categories based on survival rates (ascending order)\n",
    "    survival_rates = survival_rates.sort_values()\n",
    "\n",
    "    # Create a mapping from category to survival rate-based values (0, 1, 2,...)\n",
    "    category_mapping = {category: idx for idx, category in enumerate(survival_rates.index)}\n",
    "\n",
    "    # Map the categories to their new values\n",
    "    train_test_data[column] = train_test_data[column].map(category_mapping)"
   ]
  },
  {
   "cell_type": "code",
   "execution_count": 153,
   "metadata": {},
   "outputs": [],
   "source": [
    "train_test_data = train_test_data.astype('float')"
   ]
  },
  {
   "cell_type": "markdown",
   "metadata": {},
   "source": [
    "## Feature Scaling\n",
    "- Dropped the `Survived` column as it is no longer needed for training.\n",
    "- Applied `StandardScaler` to scale the numerical features to a standard normal distribution (mean = 0, standard deviation = 1).\n"
   ]
  },
  {
   "cell_type": "code",
   "execution_count": 154,
   "metadata": {},
   "outputs": [],
   "source": [
    "train_test_data = train_test_data.drop(columns='Survived')"
   ]
  },
  {
   "cell_type": "code",
   "execution_count": 155,
   "metadata": {},
   "outputs": [],
   "source": [
    "scaler = StandardScaler()\n",
    "\n",
    "numerical_columns = train_test_data.select_dtypes(include=['int64', 'float64']).columns\n",
    "\n",
    "train_test_data[numerical_columns] = scaler.fit_transform(train_test_data[numerical_columns])"
   ]
  },
  {
   "cell_type": "code",
   "execution_count": 156,
   "metadata": {},
   "outputs": [
    {
     "data": {
      "text/html": [
       "<div>\n",
       "<style scoped>\n",
       "    .dataframe tbody tr th:only-of-type {\n",
       "        vertical-align: middle;\n",
       "    }\n",
       "\n",
       "    .dataframe tbody tr th {\n",
       "        vertical-align: top;\n",
       "    }\n",
       "\n",
       "    .dataframe thead th {\n",
       "        text-align: right;\n",
       "    }\n",
       "</style>\n",
       "<table border=\"1\" class=\"dataframe\">\n",
       "  <thead>\n",
       "    <tr style=\"text-align: right;\">\n",
       "      <th></th>\n",
       "      <th>Pclass</th>\n",
       "      <th>Sex</th>\n",
       "      <th>Embarked</th>\n",
       "      <th>AgeGroup</th>\n",
       "      <th>HasCabin</th>\n",
       "      <th>Title</th>\n",
       "      <th>FamilySizeCategory</th>\n",
       "      <th>FareCategory</th>\n",
       "      <th>ClassCategory</th>\n",
       "    </tr>\n",
       "  </thead>\n",
       "  <tbody>\n",
       "    <tr>\n",
       "      <th>0</th>\n",
       "      <td>-0.841916</td>\n",
       "      <td>-0.743497</td>\n",
       "      <td>-0.622279</td>\n",
       "      <td>-0.749575</td>\n",
       "      <td>-0.539377</td>\n",
       "      <td>-0.808559</td>\n",
       "      <td>1.282478</td>\n",
       "      <td>-0.863471</td>\n",
       "      <td>-0.868057</td>\n",
       "    </tr>\n",
       "    <tr>\n",
       "      <th>1</th>\n",
       "      <td>1.546098</td>\n",
       "      <td>1.344995</td>\n",
       "      <td>1.834926</td>\n",
       "      <td>0.508365</td>\n",
       "      <td>1.853992</td>\n",
       "      <td>1.596904</td>\n",
       "      <td>1.282478</td>\n",
       "      <td>1.627969</td>\n",
       "      <td>1.636615</td>\n",
       "    </tr>\n",
       "    <tr>\n",
       "      <th>2</th>\n",
       "      <td>-0.841916</td>\n",
       "      <td>1.344995</td>\n",
       "      <td>-0.622279</td>\n",
       "      <td>-0.749575</td>\n",
       "      <td>-0.539377</td>\n",
       "      <td>0.995538</td>\n",
       "      <td>-0.477232</td>\n",
       "      <td>-0.863471</td>\n",
       "      <td>0.801725</td>\n",
       "    </tr>\n",
       "    <tr>\n",
       "      <th>3</th>\n",
       "      <td>1.546098</td>\n",
       "      <td>1.344995</td>\n",
       "      <td>-0.622279</td>\n",
       "      <td>0.508365</td>\n",
       "      <td>1.853992</td>\n",
       "      <td>1.596904</td>\n",
       "      <td>1.282478</td>\n",
       "      <td>0.797489</td>\n",
       "      <td>1.636615</td>\n",
       "    </tr>\n",
       "    <tr>\n",
       "      <th>4</th>\n",
       "      <td>-0.841916</td>\n",
       "      <td>-0.743497</td>\n",
       "      <td>-0.622279</td>\n",
       "      <td>0.508365</td>\n",
       "      <td>-0.539377</td>\n",
       "      <td>-0.808559</td>\n",
       "      <td>-0.477232</td>\n",
       "      <td>-0.863471</td>\n",
       "      <td>-0.868057</td>\n",
       "    </tr>\n",
       "  </tbody>\n",
       "</table>\n",
       "</div>"
      ],
      "text/plain": [
       "     Pclass       Sex  Embarked  AgeGroup  HasCabin     Title  \\\n",
       "0 -0.841916 -0.743497 -0.622279 -0.749575 -0.539377 -0.808559   \n",
       "1  1.546098  1.344995  1.834926  0.508365  1.853992  1.596904   \n",
       "2 -0.841916  1.344995 -0.622279 -0.749575 -0.539377  0.995538   \n",
       "3  1.546098  1.344995 -0.622279  0.508365  1.853992  1.596904   \n",
       "4 -0.841916 -0.743497 -0.622279  0.508365 -0.539377 -0.808559   \n",
       "\n",
       "   FamilySizeCategory  FareCategory  ClassCategory  \n",
       "0            1.282478     -0.863471      -0.868057  \n",
       "1            1.282478      1.627969       1.636615  \n",
       "2           -0.477232     -0.863471       0.801725  \n",
       "3            1.282478      0.797489       1.636615  \n",
       "4           -0.477232     -0.863471      -0.868057  "
      ]
     },
     "execution_count": 156,
     "metadata": {},
     "output_type": "execute_result"
    }
   ],
   "source": [
    "train_test_data.head()"
   ]
  },
  {
   "cell_type": "markdown",
   "metadata": {},
   "source": [
    "## Data Preparation for Modeling\n",
    "- Split the dataset into training features (`train_x`), target variable (`y_train`), and testing features (`test_x`).\n",
    "- Saved the prepared data into CSV files for model training and evaluation.\n"
   ]
  },
  {
   "cell_type": "code",
   "execution_count": 157,
   "metadata": {},
   "outputs": [],
   "source": [
    "train_x = train_test_data.iloc[:y_train.shape[0], :]\n",
    "test_x = train_test_data.iloc[y_train.shape[0]:, :]"
   ]
  },
  {
   "cell_type": "code",
   "execution_count": 158,
   "metadata": {},
   "outputs": [],
   "source": [
    "#train_x.to_csv('train_x.csv', index=False)\n",
    "#y_train.to_csv('train_y.csv', index=False)\n",
    "#test_x.to_csv('test_x.csv', index=False)"
   ]
  }
 ],
 "metadata": {
  "kernelspec": {
   "display_name": "base",
   "language": "python",
   "name": "python3"
  },
  "language_info": {
   "codemirror_mode": {
    "name": "ipython",
    "version": 3
   },
   "file_extension": ".py",
   "mimetype": "text/x-python",
   "name": "python",
   "nbconvert_exporter": "python",
   "pygments_lexer": "ipython3",
   "version": "3.12.3"
  }
 },
 "nbformat": 4,
 "nbformat_minor": 2
}
